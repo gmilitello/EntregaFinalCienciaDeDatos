{
 "cells": [
  {
   "cell_type": "code",
   "execution_count": 1,
   "id": "27e1545c",
   "metadata": {
    "id": "27e1545c"
   },
   "outputs": [],
   "source": [
    "import pandas as pd\n",
    "import matplotlib as mpl\n",
    "import matplotlib.pyplot as plt\n",
    "import seaborn as sns\n",
    "from sklearn.model_selection import train_test_split\n",
    "from sklearn.preprocessing import OneHotEncoder\n",
    "from sklearn.linear_model import LogisticRegression\n",
    "from sklearn.metrics import classification_report"
   ]
  },
  {
   "cell_type": "markdown",
   "id": "9d176508",
   "metadata": {
    "id": "9d176508"
   },
   "source": [
    "abstract-- Conjunto de datos de aerolíneas\n",
    "El conjunto de datos de aerolíneas proporciona una fuente valiosa de información para analizar y optimizar las operaciones de las aerolíneas y mejorar la experiencia del cliente. Este conjunto de datos abarca una amplia gama de variables, incluyendo datos demográficos de los pasajeros, información sobre rutas de vuelo y estados de vuelo. A continuación, se resumen los aspectos más destacados de este conjunto de datos:\n",
    "\n",
    "Información de Pasajeros:\n",
    "\n",
    "ID de Pasajero: Un identificador único para cada pasajero. Nombre y Apellido: Proporciona los nombres completos de los pasajeros. Género y Edad: Permite analizar las preferencias y características demográficas de los pasajeros. Nacionalidad: Ofrece información sobre la nacionalidad de los pasajeros. Información de Aeropuertos:\n",
    "\n",
    "Nombre del Aeropuerto: Identifica el aeropuerto de embarque de los pasajeros. Código de País del Aeropuerto: Proporciona el código de país donde se encuentra el aeropuerto. Nombre del País y Continente del Aeropuerto: Estos campos ayudan a contextualizar la ubicación del aeropuerto. Información de Vuelos:\n",
    "\n",
    "Continentes Involucrados en la Ruta: Muestra los continentes que están relacionados con la ruta de vuelo, lo que es esencial para el análisis de rutas internacionales. Fecha de Salida: Permite el análisis de patrones de vuelo y puntualidad en función de la fecha. Aeropuerto de Llegada: Identifica el destino del vuelo. Nombre del Piloto: Proporciona información sobre los pilotos responsables de operar los vuelos. Estado del Vuelo: Indica el estado actual del vuelo, incluyendo si es puntual, retrasado o cancelado. Este conjunto de datos es una valiosa herramienta para las aerolíneas que desean mejorar sus operaciones y la satisfacción del cliente. Al analizar los datos de retrasos, cancelaciones y puntualidad, las aerolíneas pueden identificar tendencias y patrones críticos. Estas tendencias pueden ayudar a las aerolíneas a tomar decisiones informadas, como ajustar horarios, rutas o estrategias de gestión de vuelos para garantizar la puntualidad y minimizar interrupciones, lo que, a su vez, mejora la experiencia del cliente y la eficiencia operativa.\n",
    "\n",
    "En resumen, este conjunto de datos de aerolíneas es una valiosa fuente de información que puede ayudar a las aerolíneas a tomar decisiones estratégicas basadas en datos sólidos, lo que resulta en una mejora significativa en la calidad de los servicios y la puntualidad de los vuelos.\n",
    "\n",
    "VARIABLES\n",
    "\n",
    "ID de pasajero : identificador único para cada pasajero\n",
    "Nombre - Nombre del pasajero\n",
    "Apellido - Apellido del pasajero\n",
    "Género - Género del pasajero\n",
    "Edad - Edad del pasajero\n",
    "Nacionalidad - Nacionalidad del pasajero\n",
    "Nombre del Aeropuerto - Nombre del aeropuerto donde abordó el pasajero\n",
    "Código de país del aeropuerto : código de país de la ubicación del aeropuerto\n",
    "Nombre del país : nombre del país en el que está ubicado el aeropuerto.\n",
    "Continente del aeropuerto : continente donde está situado el aeropuerto.\n",
    "Continentes - Continentes involucrados en la ruta del vuelo.\n",
    "Fecha de salida - Fecha de salida del vuelo\n",
    "Aeropuerto de llegada - Aeropuerto de destino del vuelo\n",
    "Nombre del piloto : nombre del piloto que opera el vuelo.\n",
    "Estado del vuelo : estado actual del vuelo (p. ej., puntual, retrasado, cancelado)"
   ]
  },
  {
   "cell_type": "code",
   "execution_count": 2,
   "id": "0ace7928",
   "metadata": {
    "colab": {
     "base_uri": "https://localhost:8080/",
     "height": 206
    },
    "id": "0ace7928",
    "outputId": "5c562e7e-a242-4c96-9346-3ac9235e97e6"
   },
   "outputs": [
    {
     "data": {
      "text/html": [
       "<div>\n",
       "<style scoped>\n",
       "    .dataframe tbody tr th:only-of-type {\n",
       "        vertical-align: middle;\n",
       "    }\n",
       "\n",
       "    .dataframe tbody tr th {\n",
       "        vertical-align: top;\n",
       "    }\n",
       "\n",
       "    .dataframe thead th {\n",
       "        text-align: right;\n",
       "    }\n",
       "</style>\n",
       "<table border=\"1\" class=\"dataframe\">\n",
       "  <thead>\n",
       "    <tr style=\"text-align: right;\">\n",
       "      <th></th>\n",
       "      <th>Passenger ID</th>\n",
       "      <th>First Name</th>\n",
       "      <th>Last Name</th>\n",
       "      <th>Gender</th>\n",
       "      <th>Age</th>\n",
       "      <th>Nationality</th>\n",
       "      <th>Airport Name</th>\n",
       "      <th>Airport Country Code</th>\n",
       "      <th>Country Name</th>\n",
       "      <th>Airport Continent</th>\n",
       "      <th>Continents</th>\n",
       "      <th>Departure Date</th>\n",
       "      <th>Arrival Airport</th>\n",
       "      <th>Pilot Name</th>\n",
       "      <th>Flight Status</th>\n",
       "    </tr>\n",
       "  </thead>\n",
       "  <tbody>\n",
       "    <tr>\n",
       "      <th>0</th>\n",
       "      <td>10856</td>\n",
       "      <td>Edithe</td>\n",
       "      <td>Leggis</td>\n",
       "      <td>Female</td>\n",
       "      <td>62</td>\n",
       "      <td>Japan</td>\n",
       "      <td>Coldfoot Airport</td>\n",
       "      <td>US</td>\n",
       "      <td>United States</td>\n",
       "      <td>NAM</td>\n",
       "      <td>North America</td>\n",
       "      <td>6/28/2022</td>\n",
       "      <td>CXF</td>\n",
       "      <td>Edithe Leggis</td>\n",
       "      <td>On Time</td>\n",
       "    </tr>\n",
       "    <tr>\n",
       "      <th>1</th>\n",
       "      <td>43872</td>\n",
       "      <td>Elwood</td>\n",
       "      <td>Catt</td>\n",
       "      <td>Male</td>\n",
       "      <td>62</td>\n",
       "      <td>Nicaragua</td>\n",
       "      <td>Kugluktuk Airport</td>\n",
       "      <td>CA</td>\n",
       "      <td>Canada</td>\n",
       "      <td>NAM</td>\n",
       "      <td>North America</td>\n",
       "      <td>12/26/2022</td>\n",
       "      <td>YCO</td>\n",
       "      <td>Elwood Catt</td>\n",
       "      <td>On Time</td>\n",
       "    </tr>\n",
       "    <tr>\n",
       "      <th>2</th>\n",
       "      <td>42633</td>\n",
       "      <td>Darby</td>\n",
       "      <td>Felgate</td>\n",
       "      <td>Male</td>\n",
       "      <td>67</td>\n",
       "      <td>Russia</td>\n",
       "      <td>Grenoble-Isère Airport</td>\n",
       "      <td>FR</td>\n",
       "      <td>France</td>\n",
       "      <td>EU</td>\n",
       "      <td>Europe</td>\n",
       "      <td>1/18/2022</td>\n",
       "      <td>GNB</td>\n",
       "      <td>Darby Felgate</td>\n",
       "      <td>On Time</td>\n",
       "    </tr>\n",
       "    <tr>\n",
       "      <th>3</th>\n",
       "      <td>78493</td>\n",
       "      <td>Dominica</td>\n",
       "      <td>Pyle</td>\n",
       "      <td>Female</td>\n",
       "      <td>71</td>\n",
       "      <td>China</td>\n",
       "      <td>Ottawa / Gatineau Airport</td>\n",
       "      <td>CA</td>\n",
       "      <td>Canada</td>\n",
       "      <td>NAM</td>\n",
       "      <td>North America</td>\n",
       "      <td>9/16/2022</td>\n",
       "      <td>YND</td>\n",
       "      <td>Dominica Pyle</td>\n",
       "      <td>Delayed</td>\n",
       "    </tr>\n",
       "    <tr>\n",
       "      <th>4</th>\n",
       "      <td>82072</td>\n",
       "      <td>Bay</td>\n",
       "      <td>Pencost</td>\n",
       "      <td>Male</td>\n",
       "      <td>21</td>\n",
       "      <td>China</td>\n",
       "      <td>Gillespie Field</td>\n",
       "      <td>US</td>\n",
       "      <td>United States</td>\n",
       "      <td>NAM</td>\n",
       "      <td>North America</td>\n",
       "      <td>2/25/2022</td>\n",
       "      <td>SEE</td>\n",
       "      <td>Bay Pencost</td>\n",
       "      <td>On Time</td>\n",
       "    </tr>\n",
       "  </tbody>\n",
       "</table>\n",
       "</div>"
      ],
      "text/plain": [
       "   Passenger ID First Name Last Name  Gender  Age Nationality  \\\n",
       "0         10856     Edithe    Leggis  Female   62       Japan   \n",
       "1         43872     Elwood      Catt    Male   62   Nicaragua   \n",
       "2         42633      Darby   Felgate    Male   67      Russia   \n",
       "3         78493   Dominica      Pyle  Female   71       China   \n",
       "4         82072        Bay   Pencost    Male   21       China   \n",
       "\n",
       "                Airport Name Airport Country Code   Country Name  \\\n",
       "0           Coldfoot Airport                   US  United States   \n",
       "1          Kugluktuk Airport                   CA         Canada   \n",
       "2     Grenoble-Isère Airport                   FR         France   \n",
       "3  Ottawa / Gatineau Airport                   CA         Canada   \n",
       "4            Gillespie Field                   US  United States   \n",
       "\n",
       "  Airport Continent     Continents Departure Date Arrival Airport  \\\n",
       "0               NAM  North America      6/28/2022             CXF   \n",
       "1               NAM  North America     12/26/2022             YCO   \n",
       "2                EU         Europe      1/18/2022             GNB   \n",
       "3               NAM  North America      9/16/2022             YND   \n",
       "4               NAM  North America      2/25/2022             SEE   \n",
       "\n",
       "      Pilot Name Flight Status  \n",
       "0  Edithe Leggis       On Time  \n",
       "1    Elwood Catt       On Time  \n",
       "2  Darby Felgate       On Time  \n",
       "3  Dominica Pyle       Delayed  \n",
       "4    Bay Pencost       On Time  "
      ]
     },
     "execution_count": 2,
     "metadata": {},
     "output_type": "execute_result"
    }
   ],
   "source": [
    "df = pd.read_csv('C:/Users/gasto/Documents/Airline Dataset/Airline Dataset.csv')\n",
    "df.head()"
   ]
  },
  {
   "cell_type": "code",
   "execution_count": 3,
   "id": "9e13ce93",
   "metadata": {
    "colab": {
     "base_uri": "https://localhost:8080/"
    },
    "id": "9e13ce93",
    "outputId": "3eeafe01-953e-4131-999c-7ae04bc6ea71"
   },
   "outputs": [
    {
     "data": {
      "text/plain": [
       "Index(['Passenger ID', 'First Name', 'Last Name', 'Gender', 'Age',\n",
       "       'Nationality', 'Airport Name', 'Airport Country Code', 'Country Name',\n",
       "       'Airport Continent', 'Continents', 'Departure Date', 'Arrival Airport',\n",
       "       'Pilot Name', 'Flight Status'],\n",
       "      dtype='object')"
      ]
     },
     "execution_count": 3,
     "metadata": {},
     "output_type": "execute_result"
    }
   ],
   "source": [
    "df.columns"
   ]
  },
  {
   "cell_type": "code",
   "execution_count": 4,
   "id": "1db55201",
   "metadata": {
    "id": "1db55201"
   },
   "outputs": [
    {
     "name": "stderr",
     "output_type": "stream",
     "text": [
      "C:\\Users\\gasto\\anaconda3\\lib\\site-packages\\sklearn\\linear_model\\_logistic.py:814: ConvergenceWarning: lbfgs failed to converge (status=1):\n",
      "STOP: TOTAL NO. of ITERATIONS REACHED LIMIT.\n",
      "\n",
      "Increase the number of iterations (max_iter) or scale the data as shown in:\n",
      "    https://scikit-learn.org/stable/modules/preprocessing.html\n",
      "Please also refer to the documentation for alternative solver options:\n",
      "    https://scikit-learn.org/stable/modules/linear_model.html#logistic-regression\n",
      "  n_iter_i = _check_optimize_result(\n"
     ]
    },
    {
     "name": "stdout",
     "output_type": "stream",
     "text": [
      "Classification Report - Logistic Regression:\n",
      "              precision    recall  f1-score   support\n",
      "\n",
      "   Cancelled       0.33      0.34      0.34      6446\n",
      "     Delayed       0.34      0.35      0.35      6655\n",
      "     On Time       0.34      0.32      0.33      6623\n",
      "\n",
      "    accuracy                           0.34     19724\n",
      "   macro avg       0.34      0.34      0.34     19724\n",
      "weighted avg       0.34      0.34      0.34     19724\n",
      "\n"
     ]
    }
   ],
   "source": [
    "\n",
    "from sklearn.model_selection import train_test_split\n",
    "from sklearn.ensemble import RandomForestClassifier\n",
    "from sklearn.metrics import accuracy_score\n",
    "\n",
    "\n",
    "# Eliminar columnas que no se usarán en el modelo\n",
    "columns_to_drop = ['Passenger ID', 'First Name', 'Last Name', 'Continents','Airport Continent'  ,'Pilot Name', 'Country Name', 'Arrival Airport']\n",
    "df = df.drop(columns=columns_to_drop)\n",
    "\n",
    "\n",
    "# Eliminar la columna original 'Departure Date'\n",
    "df = df.drop(columns=['Departure Date'])\n",
    "\n",
    "# Codificación de variables categóricas\n",
    "df_encoded = pd.get_dummies(df, columns=['Gender', 'Nationality', 'Airport Country Code','Airport Name' ])\n",
    "\n",
    "# Separar features y target\n",
    "X = df_encoded.drop(columns=['Flight Status'])\n",
    "y = df_encoded['Flight Status']\n",
    "\n",
    "# Dividir datos en conjuntos de entrenamiento y prueba\n",
    "X_train, X_test, y_train, y_test = train_test_split(X, y, test_size=0.2, random_state=42)\n",
    "\n",
    "\n",
    "\n",
    "\n",
    "# Crear y entrenar modelo de Regresión Logística\n",
    "model_logistic = LogisticRegression(max_iter=1000)\n",
    "model_logistic.fit(X_train, y_train)\n",
    "\n",
    "# Predecir y evaluar el modelo\n",
    "y_pred_logistic = model_logistic.predict(X_test)\n",
    "print(\"Classification Report - Logistic Regression:\")\n",
    "print(classification_report(y_test, y_pred_logistic))"
   ]
  },
  {
   "cell_type": "code",
   "execution_count": 5,
   "id": "e4ecf78c",
   "metadata": {
    "id": "e4ecf78c"
   },
   "outputs": [
    {
     "name": "stdout",
     "output_type": "stream",
     "text": [
      "Classification Report - Random Forest:\n",
      "              precision    recall  f1-score   support\n",
      "\n",
      "   Cancelled       0.33      0.37      0.35      6446\n",
      "     Delayed       0.33      0.32      0.33      6655\n",
      "     On Time       0.34      0.32      0.33      6623\n",
      "\n",
      "    accuracy                           0.33     19724\n",
      "   macro avg       0.33      0.33      0.33     19724\n",
      "weighted avg       0.33      0.33      0.33     19724\n",
      "\n"
     ]
    }
   ],
   "source": [
    "from sklearn.ensemble import RandomForestClassifier\n",
    "\n",
    "# Crear y entrenar modelo Random Forest\n",
    "model_rf = RandomForestClassifier()\n",
    "model_rf.fit(X_train, y_train)\n",
    "\n",
    "# Predecir y evaluar el modelo de Random Forest\n",
    "y_pred_rf = model_rf.predict(X_test)\n",
    "print(\"Classification Report - Random Forest:\")\n",
    "print(classification_report(y_test, y_pred_rf))"
   ]
  },
  {
   "cell_type": "markdown",
   "id": "559ffc97",
   "metadata": {
    "id": "559ffc97"
   },
   "source": [
    "**Ambos modelos parecen tener resultados similares en cuanto a precisión, recall y F1-Score para las clases. La precisión promedio y el F1-Score promedio son del 34% para la Regresión Logística y del 33% para Random Forest. Ambos modelos tienen un mal desempeño  y  necesitan ajustes o características adicionales para mejorar su rendimiento.**"
   ]
  },
  {
   "cell_type": "code",
   "execution_count": 6,
   "id": "98bf2549",
   "metadata": {
    "id": "98bf2549"
   },
   "outputs": [
    {
     "data": {
      "image/png": "[encoded data removed]",
      "text/plain": [
       "<Figure size 600x400 with 1 Axes>"
      ]
     },
     "metadata": {},
     "output_type": "display_data"
    },
    {
     "data": {
      "image/png": "[encoded data removed]",
      "text/plain": [
       "<Figure size 600x400 with 1 Axes>"
      ]
     },
     "metadata": {},
     "output_type": "display_data"
    },
    {
     "ename": "NameError",
     "evalue": "name 'y_pred_knn' is not defined",
     "output_type": "error",
     "traceback": [
      "\u001b[1;31m---------------------------------------------------------------------------\u001b[0m",
      "\u001b[1;31mNameError\u001b[0m                                 Traceback (most recent call last)",
      "\u001b[1;32m~\\AppData\\Local\\Temp\\ipykernel_10272\\3899518865.py\u001b[0m in \u001b[0;36m<module>\u001b[1;34m\u001b[0m\n\u001b[0;32m     19\u001b[0m \u001b[0mplot_confusion_matrix\u001b[0m\u001b[1;33m(\u001b[0m\u001b[0my_test\u001b[0m\u001b[1;33m,\u001b[0m \u001b[0my_pred_rf\u001b[0m\u001b[1;33m,\u001b[0m \u001b[1;34m'Confusion Matrix - Random Forest'\u001b[0m\u001b[1;33m)\u001b[0m\u001b[1;33m\u001b[0m\u001b[1;33m\u001b[0m\u001b[0m\n\u001b[0;32m     20\u001b[0m \u001b[1;31m# Matriz de confusión - K-Nearest Neighbors\u001b[0m\u001b[1;33m\u001b[0m\u001b[1;33m\u001b[0m\u001b[0m\n\u001b[1;32m---> 21\u001b[1;33m \u001b[0mplot_confusion_matrix\u001b[0m\u001b[1;33m(\u001b[0m\u001b[0my_test\u001b[0m\u001b[1;33m,\u001b[0m \u001b[0my_pred_knn\u001b[0m\u001b[1;33m,\u001b[0m \u001b[1;34m'Confusion Matrix - K-Nearest Neighbors'\u001b[0m\u001b[1;33m)\u001b[0m\u001b[1;33m\u001b[0m\u001b[1;33m\u001b[0m\u001b[0m\n\u001b[0m",
      "\u001b[1;31mNameError\u001b[0m: name 'y_pred_knn' is not defined"
     ]
    }
   ],
   "source": [
    "from sklearn.metrics import confusion_matrix\n",
    "import matplotlib.pyplot as plt\n",
    "import seaborn as sns\n",
    "\n",
    "# Función para mostrar la matriz de confusión\n",
    "def plot_confusion_matrix(y_true, y_pred, title):\n",
    "    cm = confusion_matrix(y_true, y_pred)\n",
    "    plt.figure(figsize=(6, 4))\n",
    "    sns.heatmap(cm, annot=True, fmt=\"d\", cmap=\"Blues\", cbar=False)\n",
    "    plt.xlabel('Predicted')\n",
    "    plt.ylabel('Actual')\n",
    "    plt.title(title)\n",
    "    plt.show()\n",
    "\n",
    "# Matriz de confusión - Regresión Logística\n",
    "plot_confusion_matrix(y_test, y_pred_logistic, 'Confusion Matrix - Logistic Regression')\n",
    "\n",
    "# Matriz de confusión - Random Forest\n",
    "plot_confusion_matrix(y_test, y_pred_rf, 'Confusion Matrix - Random Forest')\n",
    "# Matriz de confusión - K-Nearest Neighbors\n",
    "plot_confusion_matrix(y_test, y_pred_knn, 'Confusion Matrix - K-Nearest Neighbors')"
   ]
  },
  {
   "cell_type": "code",
   "execution_count": null,
   "id": "de1ef9bb",
   "metadata": {
    "id": "de1ef9bb"
   },
   "outputs": [],
   "source": [
    "from sklearn.neighbors import KNeighborsClassifier\n",
    "from sklearn.preprocessing import StandardScaler\n",
    "\n",
    "# Preprocesamiento: Codificar variables categóricas y estandarizar numéricas\n",
    "encoder = OneHotEncoder()\n",
    "X_encoded = encoder.fit_transform(X)\n",
    "\n",
    "scaler = StandardScaler(with_mean=False)\n",
    "X_scaled = scaler.fit_transform(X_encoded)\n",
    "\n",
    "# Dividir datos en entrenamiento y prueba\n",
    "X_train, X_test, y_train, y_test = train_test_split(X_scaled, y, test_size=0.2, random_state=42)\n",
    "\n",
    "# Entrenar el modelo KNN\n",
    "knn = KNeighborsClassifier(n_neighbors=5)  # Seleccionamos 5 vecinos, puedes ajustar este valor\n",
    "knn.fit(X_train, y_train)\n",
    "\n",
    "# Predecir y evaluar el modelo KNN\n",
    "y_pred_knn = knn.predict(X_test)\n",
    "print(\"Classification Report - K-Nearest Neighbors:\")\n",
    "print(classification_report(y_test, y_pred_knn))"
   ]
  },
  {
   "cell_type": "markdown",
   "id": "10a26ef1",
   "metadata": {
    "id": "10a26ef1"
   },
   "source": [
    "|      Model          | Precision (Cancelled) | Precision (Delayed) | Precision (On Time) | Recall (Cancelled) | Recall (Delayed) | Recall (On Time) | F1-score (Cancelled) | F1-score (Delayed) | F1-score (On Time) | Accuracy |\n",
    "|---------------------|-----------------------|---------------------|---------------------|--------------------|------------------|------------------|----------------------|--------------------|--------------------|----------|\n",
    "| Logistic Regression |         0.34          |        0.35         |         0.34         |        0.35        |       0.34       |       0.33       |         0.34         |        0.35        |         0.34       |   0.34   |\n",
    "| Random Forest       |         0.33          |        0.34         |         0.34         |        0.35        |       0.33       |       0.33       |         0.34         |        0.33        |         0.33       |   0.33   |\n",
    "| K-Nearest Neighbors |         0.33          |        0.34         |         0.34         |        0.47        |       0.32       |       0.21       |         0.39         |        0.33        |         0.26       |   0.33   |\n"
   ]
  },
  {
   "cell_type": "markdown",
   "id": "045355b4",
   "metadata": {
    "id": "045355b4"
   },
   "source": [
    "**Los tres algoritmos deben ser mejorados , con mejores técnicas u obtener una mayor cantidad de datos.**"
   ]
  }
 ],
 "metadata": {
  "colab": {
   "provenance": []
  },
  "kernelspec": {
   "display_name": "Python 3 (ipykernel)",
   "language": "python",
   "name": "python3"
  },
  "language_info": {
   "codemirror_mode": {
    "name": "ipython",
    "version": 3
   },
   "file_extension": ".py",
   "mimetype": "text/x-python",
   "name": "python",
   "nbconvert_exporter": "python",
   "pygments_lexer": "ipython3",
   "version": "3.9.13"
  }
 },
 "nbformat": 4,
 "nbformat_minor": 5
}
